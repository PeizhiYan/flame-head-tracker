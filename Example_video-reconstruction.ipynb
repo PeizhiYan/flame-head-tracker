{
 "cells": [
  {
   "cell_type": "code",
   "execution_count": 1,
   "id": "f5137f06-8336-4340-b37e-51eda2edd4c7",
   "metadata": {},
   "outputs": [
    {
     "name": "stdout",
     "output_type": "stream",
     "text": [
      "Current Working Directory:  /home/peizhi/Documents/flame-head-tracker\n",
      "Jupyter environment detected. Enabling Open3D WebVisualizer.\n",
      "[Open3D INFO] WebRTC GUI backend enabled.\n",
      "[Open3D INFO] WebRTCWindowSystem: HTTP handshake server disabled.\n"
     ]
    }
   ],
   "source": [
    "## Enviroment Setup\n",
    "import os, sys\n",
    "WORKING_DIR = '/home/peizhi/Documents/flame-head-tracker'\n",
    "os.chdir(WORKING_DIR) # change the working directory to the project's absolute path\n",
    "print(\"Current Working Directory: \", os.getcwd())\n",
    "\n",
    "## Computing Device\n",
    "device = 'cuda:0'\n",
    "import torch\n",
    "torch.cuda.set_device(device) # this will solve the problem that OpenGL not on the same device with torch tensors\n",
    "\n",
    "sys.path.append(WORKING_DIR)\n",
    "sys.path.append('./utils/flame_lib/')\n",
    "sys.path.append('./utils/flame_fitting/')\n",
    "sys.path.append('./utils/face_parsing/')\n",
    "sys.path.append('./utils/decalib/')\n",
    "sys.path.append('./utils/mesh_renderer')\n",
    "sys.path.append('./utils/scene')\n",
    "\n",
    "from time import time\n",
    "\n",
    "from tracker_video import track_video_legacy   # will fit and save one frame at a time\n",
    "from tracker_video import track_video          # faster than the legacy code, save at the end\n",
    "\n"
   ]
  },
  {
   "cell_type": "code",
   "execution_count": 3,
   "id": "5a59dc29-3e26-4ea0-8841-e7d470313125",
   "metadata": {},
   "outputs": [
    {
     "name": "stdout",
     "output_type": "stream",
     "text": [
      "Conversion completed. 862\n"
     ]
    },
    {
     "name": "stderr",
     "output_type": "stream",
     "text": [
      "I0000 00:00:1732088991.193436 2597939 gl_context_egl.cc:85] Successfully initialized EGL. Major : 1 Minor: 5\n",
      "W0000 00:00:1732088991.222041 2599481 gl_context.cc:348] Requested a context with major GL version 3 but context reports major version 4. Setting to 3.0\n",
      "I0000 00:00:1732088991.222073 2599481 gl_context.cc:357] GL version: 3.0 (4.6.0 NVIDIA 550.120), renderer: NVIDIA RTX A6000/PCIe/SSE2\n",
      "W0000 00:00:1732088991.222479 2597939 face_landmarker_graph.cc:174] Sets FaceBlendshapesGraph acceleration to xnnpack by default.\n",
      "W0000 00:00:1732088991.229588 2599485 inference_feedback_manager.cc:114] Feedback manager requires a model with a single signature inference. Disabling support for feedback tensors.\n",
      "W0000 00:00:1732088991.244025 2599501 inference_feedback_manager.cc:114] Feedback manager requires a model with a single signature inference. Disabling support for feedback tensors.\n"
     ]
    },
    {
     "name": "stdout",
     "output_type": "stream",
     "text": [
      "creating the FLAME Decoder\n"
     ]
    },
    {
     "name": "stderr",
     "output_type": "stream",
     "text": [
      "/home/peizhi/Documents/flame-head-tracker/utils/flame_lib/FLAME.py:81: UserWarning: To copy construct from a tensor, it is recommended to use sourceTensor.clone().detach() or sourceTensor.clone().detach().requires_grad_(True), rather than torch.tensor(sourceTensor).\n",
      "  self.register_buffer('dynamic_lmk_faces_idx', torch.tensor(lmk_embeddings['dynamic_lmk_faces_idx'], dtype=torch.long))\n",
      "/home/peizhi/Documents/flame-head-tracker/utils/flame_lib/FLAME.py:82: UserWarning: To copy construct from a tensor, it is recommended to use sourceTensor.clone().detach() or sourceTensor.clone().detach().requires_grad_(True), rather than torch.tensor(sourceTensor).\n",
      "  self.register_buffer('dynamic_lmk_bary_coords', torch.tensor(lmk_embeddings['dynamic_lmk_bary_coords'], dtype=self.dtype))\n",
      "/home/peizhi/miniconda3/envs/tracker/lib/python3.10/site-packages/pytorch3d/io/obj_io.py:550: UserWarning: Mtl file does not exist: ./models/template.mtl\n",
      "  warnings.warn(f\"Mtl file does not exist: {f}\")\n",
      "/home/peizhi/miniconda3/envs/tracker/lib/python3.10/site-packages/torchvision/models/_utils.py:208: UserWarning: The parameter 'pretrained' is deprecated since 0.13 and may be removed in the future, please use 'weights' instead.\n",
      "  warnings.warn(\n",
      "/home/peizhi/miniconda3/envs/tracker/lib/python3.10/site-packages/torchvision/models/_utils.py:223: UserWarning: Arguments other than a weight enum or `None` for 'weights' are deprecated since 0.13 and may be removed in the future. The current behavior is equivalent to passing `weights=None`.\n",
      "  warnings.warn(msg)\n"
     ]
    },
    {
     "name": "stdout",
     "output_type": "stream",
     "text": [
      "creating the FLAME Decoder\n",
      "trained model found. load models/deca_model.tar\n"
     ]
    },
    {
     "name": "stderr",
     "output_type": "stream",
     "text": [
      "/home/peizhi/miniconda3/envs/tracker/lib/python3.10/site-packages/pytorch3d/io/obj_io.py:550: UserWarning: Mtl file does not exist: models/template.mtl\n",
      "  warnings.warn(f\"Mtl file does not exist: {f}\")\n"
     ]
    },
    {
     "name": "stdout",
     "output_type": "stream",
     "text": [
      "Flame Tracker ready.\n",
      "Estimating global shape code\n"
     ]
    },
    {
     "name": "stderr",
     "output_type": "stream",
     "text": [
      "100%|██████████| 100/100 [00:03<00:00, 28.81it/s]\n"
     ]
    },
    {
     "name": "stdout",
     "output_type": "stream",
     "text": [
      "Processing video: ./assets/IMG_2647.MOV\n"
     ]
    },
    {
     "name": "stderr",
     "output_type": "stream",
     "text": [
      "  2%|▏         | 19/862 [01:14<54:45,  3.90s/it] \n"
     ]
    },
    {
     "ename": "KeyboardInterrupt",
     "evalue": "",
     "output_type": "error",
     "traceback": [
      "\u001b[0;31m---------------------------------------------------------------------------\u001b[0m",
      "\u001b[0;31mKeyboardInterrupt\u001b[0m                         Traceback (most recent call last)",
      "Cell \u001b[0;32mIn[3], line 23\u001b[0m\n\u001b[1;32m     21\u001b[0m \u001b[38;5;66;03m## Note that, the first frame will take longer time to process\u001b[39;00m\n\u001b[1;32m     22\u001b[0m dt \u001b[38;5;241m=\u001b[39m time()\n\u001b[0;32m---> 23\u001b[0m \u001b[43mtrack_video_legacy\u001b[49m\u001b[43m(\u001b[49m\u001b[43mtracker_cfg\u001b[49m\u001b[43m)\u001b[49m\n\u001b[1;32m     24\u001b[0m \u001b[38;5;28mprint\u001b[39m(\u001b[38;5;124mf\u001b[39m\u001b[38;5;124m\"\u001b[39m\u001b[38;5;124mtime used: \u001b[39m\u001b[38;5;132;01m{\u001b[39;00m(time()\u001b[38;5;250m \u001b[39m\u001b[38;5;241m-\u001b[39m\u001b[38;5;250m \u001b[39mdt)\u001b[38;5;250m \u001b[39m\u001b[38;5;241m/\u001b[39m\u001b[38;5;250m \u001b[39m\u001b[38;5;241m60\u001b[39m\u001b[38;5;132;01m}\u001b[39;00m\u001b[38;5;124m minutes\u001b[39m\u001b[38;5;124m\"\u001b[39m)\n\u001b[1;32m     26\u001b[0m \u001b[38;5;66;03m## Note that, the first frame will take longer time to process\u001b[39;00m\n\u001b[1;32m     27\u001b[0m \u001b[38;5;66;03m# dt = time()\u001b[39;00m\n\u001b[1;32m     28\u001b[0m \u001b[38;5;66;03m# track_video(tracker_cfg)\u001b[39;00m\n\u001b[1;32m     29\u001b[0m \u001b[38;5;66;03m# print(f\"time used: {(time() - dt) / 60} minutes\")\u001b[39;00m\n",
      "File \u001b[0;32m~/Documents/flame-head-tracker/tracker_video.py:86\u001b[0m, in \u001b[0;36mtrack_video_legacy\u001b[0;34m(tracker_cfg)\u001b[0m\n\u001b[1;32m     77\u001b[0m prev_ret_dict \u001b[38;5;241m=\u001b[39m \u001b[38;5;28;01mNone\u001b[39;00m\n\u001b[1;32m     78\u001b[0m \u001b[38;5;28;01mfor\u001b[39;00m fid \u001b[38;5;129;01min\u001b[39;00m tqdm(\u001b[38;5;28mrange\u001b[39m(\u001b[38;5;28mlen\u001b[39m(frames))):\n\u001b[1;32m     79\u001b[0m \n\u001b[1;32m     80\u001b[0m     \u001b[38;5;66;03m# # Skip processed files (optional)\u001b[39;00m\n\u001b[0;32m   (...)\u001b[0m\n\u001b[1;32m     84\u001b[0m \n\u001b[1;32m     85\u001b[0m     \u001b[38;5;66;03m# fit on the current frame\u001b[39;00m\n\u001b[0;32m---> 86\u001b[0m     ret_dict \u001b[38;5;241m=\u001b[39m \u001b[43mtracker\u001b[49m\u001b[38;5;241;43m.\u001b[39;49m\u001b[43mrun\u001b[49m\u001b[43m(\u001b[49m\u001b[43mimg\u001b[49m\u001b[38;5;241;43m=\u001b[39;49m\u001b[43mframes\u001b[49m\u001b[43m[\u001b[49m\u001b[43mfid\u001b[49m\u001b[43m]\u001b[49m\u001b[43m,\u001b[49m\u001b[43m \u001b[49m\u001b[43mrealign\u001b[49m\u001b[38;5;241;43m=\u001b[39;49m\u001b[38;5;28;43;01mTrue\u001b[39;49;00m\u001b[43m,\u001b[49m\u001b[43m \u001b[49m\u001b[43mprev_ret_dict\u001b[49m\u001b[38;5;241;43m=\u001b[39;49m\u001b[43mprev_ret_dict\u001b[49m\u001b[43m,\u001b[49m\u001b[43m \u001b[49m\u001b[43mshape_code\u001b[49m\u001b[38;5;241;43m=\u001b[39;49m\u001b[43mmean_shape_code\u001b[49m\u001b[43m)\u001b[49m\n\u001b[1;32m     87\u001b[0m     prev_ret_dict \u001b[38;5;241m=\u001b[39m ret_dict\n\u001b[1;32m     88\u001b[0m     \u001b[38;5;28;01mif\u001b[39;00m ret_dict \u001b[38;5;129;01mis\u001b[39;00m \u001b[38;5;28;01mNone\u001b[39;00m:\n",
      "File \u001b[0;32m~/Documents/flame-head-tracker/tracker_base.py:254\u001b[0m, in \u001b[0;36mTracker.run\u001b[0;34m(self, img, realign, photometric_fitting, prev_ret_dict, shape_code)\u001b[0m\n\u001b[1;32m    251\u001b[0m     ret_dict \u001b[38;5;241m=\u001b[39m \u001b[38;5;28mself\u001b[39m\u001b[38;5;241m.\u001b[39mrun_fitting_photometric(img, face_mask, deca_dict, prev_ret_dict, shape_code)\n\u001b[1;32m    252\u001b[0m \u001b[38;5;28;01melse\u001b[39;00m:\n\u001b[1;32m    253\u001b[0m     \u001b[38;5;66;03m# run facial landmark-based fitting\u001b[39;00m\n\u001b[0;32m--> 254\u001b[0m     ret_dict \u001b[38;5;241m=\u001b[39m \u001b[38;5;28;43mself\u001b[39;49m\u001b[38;5;241;43m.\u001b[39;49m\u001b[43mrun_fitting\u001b[49m\u001b[43m(\u001b[49m\u001b[43mimg\u001b[49m\u001b[43m,\u001b[49m\u001b[43m \u001b[49m\u001b[43mdeca_dict\u001b[49m\u001b[43m,\u001b[49m\u001b[43m \u001b[49m\u001b[43mprev_ret_dict\u001b[49m\u001b[43m,\u001b[49m\u001b[43m \u001b[49m\u001b[43mshape_code\u001b[49m\u001b[43m)\u001b[49m\n\u001b[1;32m    256\u001b[0m \u001b[38;5;66;03m# check for NaNs, if there is any, return None\u001b[39;00m\n\u001b[1;32m    257\u001b[0m _, nan_status \u001b[38;5;241m=\u001b[39m check_nan_in_dict(ret_dict)\n",
      "File \u001b[0;32m~/Documents/flame-head-tracker/tracker_base.py:577\u001b[0m, in \u001b[0;36mTracker.run_fitting\u001b[0;34m(self, img, deca_dict, prev_ret_dict, shape_code)\u001b[0m\n\u001b[1;32m    575\u001b[0m optimized_pose[\u001b[38;5;241m0\u001b[39m,:\u001b[38;5;241m3\u001b[39m] \u001b[38;5;241m*\u001b[39m\u001b[38;5;241m=\u001b[39m \u001b[38;5;241m0\u001b[39m \u001b[38;5;66;03m# we clear FLAME's head pose \u001b[39;00m\n\u001b[1;32m    576\u001b[0m optimized_pose[:,\u001b[38;5;241m3\u001b[39m:] \u001b[38;5;241m=\u001b[39m optimized_pose[:,\u001b[38;5;241m3\u001b[39m:] \u001b[38;5;241m+\u001b[39m d_jaw\n\u001b[0;32m--> 577\u001b[0m vertices, _, _ \u001b[38;5;241m=\u001b[39m \u001b[38;5;28;43mself\u001b[39;49m\u001b[38;5;241;43m.\u001b[39;49m\u001b[43mflame\u001b[49m\u001b[43m(\u001b[49m\u001b[43mshape_params\u001b[49m\u001b[38;5;241;43m=\u001b[39;49m\u001b[43mshape\u001b[49m\u001b[43m,\u001b[49m\u001b[43m \u001b[49m\n\u001b[1;32m    578\u001b[0m \u001b[43m                            \u001b[49m\u001b[43mexpression_params\u001b[49m\u001b[38;5;241;43m=\u001b[39;49m\u001b[43moptimized_exp\u001b[49m\u001b[43m,\u001b[49m\u001b[43m \u001b[49m\n\u001b[1;32m    579\u001b[0m \u001b[43m                            \u001b[49m\u001b[43mpose_params\u001b[49m\u001b[38;5;241;43m=\u001b[39;49m\u001b[43moptimized_pose\u001b[49m\u001b[43m,\u001b[49m\u001b[43m \u001b[49m\n\u001b[1;32m    580\u001b[0m \u001b[43m                            \u001b[49m\u001b[43meye_pose_params\u001b[49m\u001b[38;5;241;43m=\u001b[39;49m\u001b[43meye_pose\u001b[49m\u001b[43m)\u001b[49m \u001b[38;5;66;03m# [1, N, 3]\u001b[39;00m\n\u001b[1;32m    582\u001b[0m \u001b[38;5;66;03m# project landmarks via NV diff renderer\u001b[39;00m\n\u001b[1;32m    583\u001b[0m verts_clip \u001b[38;5;241m=\u001b[39m \u001b[38;5;28mself\u001b[39m\u001b[38;5;241m.\u001b[39mmesh_renderer\u001b[38;5;241m.\u001b[39mproject_vertices_from_camera(vertices, cam)\n",
      "File \u001b[0;32m~/miniconda3/envs/tracker/lib/python3.10/site-packages/torch/nn/modules/module.py:1501\u001b[0m, in \u001b[0;36mModule._call_impl\u001b[0;34m(self, *args, **kwargs)\u001b[0m\n\u001b[1;32m   1496\u001b[0m \u001b[38;5;66;03m# If we don't have any hooks, we want to skip the rest of the logic in\u001b[39;00m\n\u001b[1;32m   1497\u001b[0m \u001b[38;5;66;03m# this function, and just call forward.\u001b[39;00m\n\u001b[1;32m   1498\u001b[0m \u001b[38;5;28;01mif\u001b[39;00m \u001b[38;5;129;01mnot\u001b[39;00m (\u001b[38;5;28mself\u001b[39m\u001b[38;5;241m.\u001b[39m_backward_hooks \u001b[38;5;129;01mor\u001b[39;00m \u001b[38;5;28mself\u001b[39m\u001b[38;5;241m.\u001b[39m_backward_pre_hooks \u001b[38;5;129;01mor\u001b[39;00m \u001b[38;5;28mself\u001b[39m\u001b[38;5;241m.\u001b[39m_forward_hooks \u001b[38;5;129;01mor\u001b[39;00m \u001b[38;5;28mself\u001b[39m\u001b[38;5;241m.\u001b[39m_forward_pre_hooks\n\u001b[1;32m   1499\u001b[0m         \u001b[38;5;129;01mor\u001b[39;00m _global_backward_pre_hooks \u001b[38;5;129;01mor\u001b[39;00m _global_backward_hooks\n\u001b[1;32m   1500\u001b[0m         \u001b[38;5;129;01mor\u001b[39;00m _global_forward_hooks \u001b[38;5;129;01mor\u001b[39;00m _global_forward_pre_hooks):\n\u001b[0;32m-> 1501\u001b[0m     \u001b[38;5;28;01mreturn\u001b[39;00m \u001b[43mforward_call\u001b[49m\u001b[43m(\u001b[49m\u001b[38;5;241;43m*\u001b[39;49m\u001b[43margs\u001b[49m\u001b[43m,\u001b[49m\u001b[43m \u001b[49m\u001b[38;5;241;43m*\u001b[39;49m\u001b[38;5;241;43m*\u001b[39;49m\u001b[43mkwargs\u001b[49m\u001b[43m)\u001b[49m\n\u001b[1;32m   1502\u001b[0m \u001b[38;5;66;03m# Do not call functions when jit is used\u001b[39;00m\n\u001b[1;32m   1503\u001b[0m full_backward_hooks, non_full_backward_hooks \u001b[38;5;241m=\u001b[39m [], []\n",
      "File \u001b[0;32m~/Documents/flame-head-tracker/utils/flame_lib/FLAME.py:194\u001b[0m, in \u001b[0;36mFLAME.forward\u001b[0;34m(self, shape_params, expression_params, pose_params, eye_pose_params)\u001b[0m\n\u001b[1;32m    191\u001b[0m template_vertices \u001b[38;5;241m=\u001b[39m \u001b[38;5;28mself\u001b[39m\u001b[38;5;241m.\u001b[39mv_template\u001b[38;5;241m.\u001b[39munsqueeze(\u001b[38;5;241m0\u001b[39m)\u001b[38;5;241m.\u001b[39mexpand(batch_size, \u001b[38;5;241m-\u001b[39m\u001b[38;5;241m1\u001b[39m, \u001b[38;5;241m-\u001b[39m\u001b[38;5;241m1\u001b[39m) \u001b[38;5;66;03m# [N,V,3]\u001b[39;00m\n\u001b[1;32m    193\u001b[0m \u001b[38;5;66;03m# import ipdb; ipdb.set_trace()\u001b[39;00m\n\u001b[0;32m--> 194\u001b[0m vertices, _ \u001b[38;5;241m=\u001b[39m \u001b[43mlbs\u001b[49m\u001b[43m(\u001b[49m\u001b[43mbetas\u001b[49m\u001b[43m,\u001b[49m\u001b[43m \u001b[49m\u001b[43mfull_pose\u001b[49m\u001b[43m,\u001b[49m\u001b[43m \u001b[49m\u001b[43mtemplate_vertices\u001b[49m\u001b[43m,\u001b[49m\n\u001b[1;32m    195\u001b[0m \u001b[43m                  \u001b[49m\u001b[38;5;28;43mself\u001b[39;49m\u001b[38;5;241;43m.\u001b[39;49m\u001b[43mshapedirs\u001b[49m\u001b[43m,\u001b[49m\u001b[43m \u001b[49m\u001b[38;5;28;43mself\u001b[39;49m\u001b[38;5;241;43m.\u001b[39;49m\u001b[43mposedirs\u001b[49m\u001b[43m,\u001b[49m\n\u001b[1;32m    196\u001b[0m \u001b[43m                  \u001b[49m\u001b[38;5;28;43mself\u001b[39;49m\u001b[38;5;241;43m.\u001b[39;49m\u001b[43mJ_regressor\u001b[49m\u001b[43m,\u001b[49m\u001b[43m \u001b[49m\u001b[38;5;28;43mself\u001b[39;49m\u001b[38;5;241;43m.\u001b[39;49m\u001b[43mparents\u001b[49m\u001b[43m,\u001b[49m\n\u001b[1;32m    197\u001b[0m \u001b[43m                  \u001b[49m\u001b[38;5;28;43mself\u001b[39;49m\u001b[38;5;241;43m.\u001b[39;49m\u001b[43mlbs_weights\u001b[49m\u001b[43m,\u001b[49m\u001b[43m \u001b[49m\u001b[43mdtype\u001b[49m\u001b[38;5;241;43m=\u001b[39;49m\u001b[38;5;28;43mself\u001b[39;49m\u001b[38;5;241;43m.\u001b[39;49m\u001b[43mdtype\u001b[49m\u001b[43m)\u001b[49m\n\u001b[1;32m    199\u001b[0m lmk_faces_idx \u001b[38;5;241m=\u001b[39m \u001b[38;5;28mself\u001b[39m\u001b[38;5;241m.\u001b[39mlmk_faces_idx\u001b[38;5;241m.\u001b[39munsqueeze(dim\u001b[38;5;241m=\u001b[39m\u001b[38;5;241m0\u001b[39m)\u001b[38;5;241m.\u001b[39mexpand(batch_size, \u001b[38;5;241m-\u001b[39m\u001b[38;5;241m1\u001b[39m)\n\u001b[1;32m    200\u001b[0m lmk_bary_coords \u001b[38;5;241m=\u001b[39m \u001b[38;5;28mself\u001b[39m\u001b[38;5;241m.\u001b[39mlmk_bary_coords\u001b[38;5;241m.\u001b[39munsqueeze(dim\u001b[38;5;241m=\u001b[39m\u001b[38;5;241m0\u001b[39m)\u001b[38;5;241m.\u001b[39mexpand(batch_size, \u001b[38;5;241m-\u001b[39m\u001b[38;5;241m1\u001b[39m, \u001b[38;5;241m-\u001b[39m\u001b[38;5;241m1\u001b[39m)\n",
      "File \u001b[0;32m~/Documents/flame-head-tracker/utils/flame_lib/lbs.py:189\u001b[0m, in \u001b[0;36mlbs\u001b[0;34m(betas, pose, v_template, shapedirs, posedirs, J_regressor, parents, lbs_weights, pose2rot, dtype)\u001b[0m\n\u001b[1;32m    185\u001b[0m v_shaped \u001b[38;5;241m=\u001b[39m v_template \u001b[38;5;241m+\u001b[39m blend_shapes(betas, shapedirs)\n\u001b[1;32m    187\u001b[0m \u001b[38;5;66;03m# Get the joints\u001b[39;00m\n\u001b[1;32m    188\u001b[0m \u001b[38;5;66;03m# NxJx3 array\u001b[39;00m\n\u001b[0;32m--> 189\u001b[0m J \u001b[38;5;241m=\u001b[39m \u001b[43mvertices2joints\u001b[49m\u001b[43m(\u001b[49m\u001b[43mJ_regressor\u001b[49m\u001b[43m,\u001b[49m\u001b[43m \u001b[49m\u001b[43mv_shaped\u001b[49m\u001b[43m)\u001b[49m\n\u001b[1;32m    191\u001b[0m \u001b[38;5;66;03m# 3. Add pose blend shapes\u001b[39;00m\n\u001b[1;32m    192\u001b[0m \u001b[38;5;66;03m# N x J x 3 x 3\u001b[39;00m\n\u001b[1;32m    193\u001b[0m ident \u001b[38;5;241m=\u001b[39m torch\u001b[38;5;241m.\u001b[39meye(\u001b[38;5;241m3\u001b[39m, dtype\u001b[38;5;241m=\u001b[39mdtype, device\u001b[38;5;241m=\u001b[39mdevice)\n",
      "File \u001b[0;32m~/Documents/flame-head-tracker/utils/flame_lib/lbs.py:231\u001b[0m, in \u001b[0;36mvertices2joints\u001b[0;34m(J_regressor, vertices)\u001b[0m\n\u001b[1;32m    226\u001b[0m     verts \u001b[38;5;241m=\u001b[39m v_homo[:, :, :\u001b[38;5;241m3\u001b[39m, \u001b[38;5;241m0\u001b[39m]\n\u001b[1;32m    228\u001b[0m     \u001b[38;5;28;01mreturn\u001b[39;00m verts, J_transformed\n\u001b[0;32m--> 231\u001b[0m \u001b[38;5;28;01mdef\u001b[39;00m \u001b[38;5;21mvertices2joints\u001b[39m(J_regressor, vertices):\n\u001b[1;32m    232\u001b[0m \u001b[38;5;250m    \u001b[39m\u001b[38;5;124;03m''' Calculates the 3D joint locations from the vertices\u001b[39;00m\n\u001b[1;32m    233\u001b[0m \n\u001b[1;32m    234\u001b[0m \u001b[38;5;124;03m    Parameters\u001b[39;00m\n\u001b[0;32m   (...)\u001b[0m\n\u001b[1;32m    245\u001b[0m \u001b[38;5;124;03m        The location of the joints\u001b[39;00m\n\u001b[1;32m    246\u001b[0m \u001b[38;5;124;03m    '''\u001b[39;00m\n\u001b[1;32m    248\u001b[0m     \u001b[38;5;28;01mreturn\u001b[39;00m torch\u001b[38;5;241m.\u001b[39meinsum(\u001b[38;5;124m'\u001b[39m\u001b[38;5;124mbik,ji->bjk\u001b[39m\u001b[38;5;124m'\u001b[39m, [vertices, J_regressor])\n",
      "\u001b[0;31mKeyboardInterrupt\u001b[0m: "
     ]
    }
   ],
   "source": [
    "\n",
    "tracker_cfg = {\n",
    "    'mediapipe_face_landmarker_v2_path': './models/face_landmarker_v2_with_blendshapes.task',\n",
    "    'flame_model_path': './models/FLAME2020/generic_model.pkl',\n",
    "    'flame_lmk_embedding_path': './models/landmark_embedding.npy',\n",
    "    'tex_space_path': './models/FLAME_albedo_from_BFM.npz',\n",
    "    'face_parsing_model_path': './utils/face_parsing/79999_iter.pth',\n",
    "    'uv_coord_mapping_file_path': './models/uv2vert_256.npy',\n",
    "    'template_mesh_file_path': './models/head_template.obj',\n",
    "    'result_img_size': 512,\n",
    "    'device': device,\n",
    "    ## following are used for video tracking\n",
    "    'original_fps': 60,        # input video fps\n",
    "    'subsample_fps': 30,       # subsample fps\n",
    "    'video_path': './assets/IMG_2647.MOV',  # example video file path\n",
    "    'save_path': './output',   # tracking result save path\n",
    "    'use_kalman_filter': False, # whether to use Kalman filter\n",
    "    'kalman_filter_measurement_noise_factor': 1e-5, # measurement noise level in Kalman filter \n",
    "    'kalman_filter_process_noise_factor': 1e-5,     # process noise level in Kalman filter \n",
    "}\n",
    "\n",
    "## Note that, the first frame will take longer time to process\n",
    "dt = time()\n",
    "track_video_legacy(tracker_cfg)\n",
    "print(f\"time used: {(time() - dt) / 60} minutes\")\n",
    "\n",
    "## Note that, the first frame will take longer time to process\n",
    "# dt = time()\n",
    "# track_video(tracker_cfg)\n",
    "# print(f\"time used: {(time() - dt) / 60} minutes\")\n"
   ]
  },
  {
   "cell_type": "code",
   "execution_count": null,
   "id": "4d21771c",
   "metadata": {},
   "outputs": [],
   "source": []
  }
 ],
 "metadata": {
  "kernelspec": {
   "display_name": "tracker",
   "language": "python",
   "name": "python3"
  },
  "language_info": {
   "codemirror_mode": {
    "name": "ipython",
    "version": 3
   },
   "file_extension": ".py",
   "mimetype": "text/x-python",
   "name": "python",
   "nbconvert_exporter": "python",
   "pygments_lexer": "ipython3",
   "version": "3.10.14"
  }
 },
 "nbformat": 4,
 "nbformat_minor": 5
}
