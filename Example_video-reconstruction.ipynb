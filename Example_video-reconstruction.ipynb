{
 "cells": [
  {
   "cell_type": "code",
   "execution_count": 3,
   "id": "f5137f06-8336-4340-b37e-51eda2edd4c7",
   "metadata": {},
   "outputs": [
    {
     "name": "stdout",
     "output_type": "stream",
     "text": [
      "Current Working Directory:  /home/peizhi/Documents/flame-head-tracker\n"
     ]
    }
   ],
   "source": [
    "## Enviroment Setup\n",
    "import os, sys\n",
    "WORKING_DIR = '/home/peizhi/Documents/flame-head-tracker'\n",
    "os.chdir(WORKING_DIR) # change the working directory to the project's absolute path\n",
    "print(\"Current Working Directory: \", os.getcwd())\n",
    "\n",
    "sys.path.append(WORKING_DIR)\n",
    "sys.path.append('./utils/flame_lib/')\n",
    "sys.path.append('./utils/flame_fitting/')\n",
    "sys.path.append('./utils/face_parsing/')\n",
    "sys.path.append('./utils/decalib/')\n",
    "sys.path.append('./utils/mesh_renderer')\n",
    "sys.path.append('./utils/scene')\n",
    "\n",
    "\n",
    "from tracker_video import track_video\n",
    "\n",
    "## Computing Device\n",
    "os.environ['CUDA_VISIBLE_DEVICES'] = '1' # Set the visible CUDA GPU\n",
    "device = 'cuda:0'\n"
   ]
  },
  {
   "cell_type": "code",
   "execution_count": 4,
   "id": "5a59dc29-3e26-4ea0-8841-e7d470313125",
   "metadata": {},
   "outputs": [
    {
     "name": "stdout",
     "output_type": "stream",
     "text": [
      "Conversion completed. 862\n"
     ]
    },
    {
     "name": "stderr",
     "output_type": "stream",
     "text": [
      "WARNING: All log messages before absl::InitializeLog() is called are written to STDERR\n",
      "I0000 00:00:1727290756.622711 1181621 gl_context_egl.cc:85] Successfully initialized EGL. Major : 1 Minor: 5\n",
      "I0000 00:00:1727290756.663295 1182028 gl_context.cc:357] GL version: 3.2 (OpenGL ES 3.2 NVIDIA 550.107.02), renderer: NVIDIA RTX A6000/PCIe/SSE2\n",
      "W0000 00:00:1727290756.663914 1181621 face_landmarker_graph.cc:174] Sets FaceBlendshapesGraph acceleration to xnnpack by default.\n",
      "INFO: Created TensorFlow Lite XNNPACK delegate for CPU.\n",
      "W0000 00:00:1727290756.673227 1182031 inference_feedback_manager.cc:114] Feedback manager requires a model with a single signature inference. Disabling support for feedback tensors.\n",
      "W0000 00:00:1727290756.689606 1182049 inference_feedback_manager.cc:114] Feedback manager requires a model with a single signature inference. Disabling support for feedback tensors.\n"
     ]
    }
   ],
   "source": [
    "\n",
    "tracker_cfg = {\n",
    "    'mediapipe_face_landmarker_v2_path': './models/face_landmarker_v2_with_blendshapes.task',\n",
    "    'flame_model_path': './models/FLAME2020/generic_model.pkl',\n",
    "    'flame_lmk_embedding_path': './models/landmark_embedding.npy',\n",
    "    'tex_space_path': './models/FLAME_texture.npz',\n",
    "    'face_parsing_model_path': './utils/face_parsing/79999_iter.pth',\n",
    "    'uv_coord_mapping_file_path': './models/uv2vert_256.npy',\n",
    "    'template_mesh_file_path': './models/head_template.obj',\n",
    "    'result_img_size': 512,\n",
    "    'device': device,\n",
    "    ## following are used for video tracking\n",
    "    'original_fps': 60,       # input video fps\n",
    "    'subsample_fps': 30,      # subsample fps\n",
    "    'video_path': './assets/IMG_2647.MOV',  # example video\n",
    "    'save_path': './output',  # tracking result save path\n",
    "}\n",
    "\n",
    "## Note that, the first frame will take longer time to process\n",
    "track_video(tracker_cfg)\n",
    "\n",
    "\n"
   ]
  },
  {
   "cell_type": "code",
   "execution_count": null,
   "id": "ece9e34a-fbcc-4b56-9334-467cef00c52c",
   "metadata": {},
   "outputs": [],
   "source": []
  }
 ],
 "metadata": {
  "kernelspec": {
   "display_name": "Python 3 (ipykernel)",
   "language": "python",
   "name": "python3"
  },
  "language_info": {
   "codemirror_mode": {
    "name": "ipython",
    "version": 3
   },
   "file_extension": ".py",
   "mimetype": "text/x-python",
   "name": "python",
   "nbconvert_exporter": "python",
   "pygments_lexer": "ipython3",
   "version": "3.10.14"
  }
 },
 "nbformat": 4,
 "nbformat_minor": 5
}
