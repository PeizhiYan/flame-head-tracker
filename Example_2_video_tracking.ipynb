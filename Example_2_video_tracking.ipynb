{
 "cells": [
  {
   "cell_type": "code",
   "execution_count": null,
   "id": "f5137f06-8336-4340-b37e-51eda2edd4c7",
   "metadata": {},
   "outputs": [
    {
     "name": "stdout",
     "output_type": "stream",
     "text": [
      "Current Working Directory:  /home/peizhi/Documents/flame-head-tracker\n",
      "Jupyter environment detected. Enabling Open3D WebVisualizer.\n",
      "[Open3D INFO] WebRTC GUI backend enabled.\n",
      "[Open3D INFO] WebRTCWindowSystem: HTTP handshake server disabled.\n"
     ]
    }
   ],
   "source": [
    "## Enviroment Setup\n",
    "import os, sys\n",
    "WORKING_DIR = '/home/peizhi/Documents/flame-head-tracker'\n",
    "os.chdir(WORKING_DIR) # change the working directory to the project's absolute path\n",
    "print(\"Current Working Directory: \", os.getcwd())\n",
    "\n",
    "## Computing Device\n",
    "device = 'cuda:0'\n",
    "import torch\n",
    "torch.cuda.set_device(device) # this will solve the problem that OpenGL not on the same device with torch tensors\n",
    "\n",
    "from time import time\n",
    "\n",
    "from tracker_video import track_video\n"
   ]
  },
  {
   "cell_type": "code",
   "execution_count": null,
   "id": "5a59dc29-3e26-4ea0-8841-e7d470313125",
   "metadata": {},
   "outputs": [
    {
     "name": "stdout",
     "output_type": "stream",
     "text": [
      "Conversion completed. 862\n"
     ]
    },
    {
     "name": "stderr",
     "output_type": "stream",
     "text": [
      "WARNING: All log messages before absl::InitializeLog() is called are written to STDERR\n",
      "I0000 00:00:1750796463.877488   95705 gl_context_egl.cc:85] Successfully initialized EGL. Major : 1 Minor: 5\n",
      "I0000 00:00:1750796463.903320   96096 gl_context.cc:357] GL version: 3.2 (OpenGL ES 3.2 NVIDIA 550.144.03), renderer: NVIDIA RTX A6000/PCIe/SSE2\n",
      "W0000 00:00:1750796463.903836   95705 face_landmarker_graph.cc:174] Sets FaceBlendshapesGraph acceleration to xnnpack by default.\n",
      "INFO: Created TensorFlow Lite XNNPACK delegate for CPU.\n",
      "W0000 00:00:1750796463.913268   96101 inference_feedback_manager.cc:114] Feedback manager requires a model with a single signature inference. Disabling support for feedback tensors.\n",
      "W0000 00:00:1750796463.934338   96113 inference_feedback_manager.cc:114] Feedback manager requires a model with a single signature inference. Disabling support for feedback tensors.\n",
      "Using cache found in /home/peizhi/.cache/torch/hub/PeterL1n_RobustVideoMatting_master\n"
     ]
    },
    {
     "name": "stdout",
     "output_type": "stream",
     "text": [
      "creating the FLAME Decoder\n"
     ]
    },
    {
     "name": "stderr",
     "output_type": "stream",
     "text": [
      "/home/peizhi/Documents/flame-head-tracker/submodules/flame_lib/FLAME.py:85: UserWarning: To copy construct from a tensor, it is recommended to use sourceTensor.clone().detach() or sourceTensor.clone().detach().requires_grad_(True), rather than torch.tensor(sourceTensor).\n",
      "  self.register_buffer('dynamic_lmk_faces_idx', torch.tensor(lmk_embeddings['dynamic_lmk_faces_idx'], dtype=torch.long))\n",
      "/home/peizhi/Documents/flame-head-tracker/submodules/flame_lib/FLAME.py:86: UserWarning: To copy construct from a tensor, it is recommended to use sourceTensor.clone().detach() or sourceTensor.clone().detach().requires_grad_(True), rather than torch.tensor(sourceTensor).\n",
      "  self.register_buffer('dynamic_lmk_bary_coords', torch.tensor(lmk_embeddings['dynamic_lmk_bary_coords'], dtype=self.dtype))\n",
      "/home/peizhi/miniconda3/envs/tracker/lib/python3.10/site-packages/pytorch3d/io/obj_io.py:550: UserWarning: Mtl file does not exist: ./models/template.mtl\n",
      "  warnings.warn(f\"Mtl file does not exist: {f}\")\n",
      "/home/peizhi/miniconda3/envs/tracker/lib/python3.10/site-packages/torchvision/models/_utils.py:208: UserWarning: The parameter 'pretrained' is deprecated since 0.13 and may be removed in the future, please use 'weights' instead.\n",
      "  warnings.warn(\n",
      "/home/peizhi/miniconda3/envs/tracker/lib/python3.10/site-packages/torchvision/models/_utils.py:223: UserWarning: Arguments other than a weight enum or `None` for 'weights' are deprecated since 0.13 and may be removed in the future. The current behavior is equivalent to passing `weights=None`.\n",
      "  warnings.warn(msg)\n"
     ]
    },
    {
     "name": "stdout",
     "output_type": "stream",
     "text": [
      "creating the FLAME Decoder\n",
      "trained model found. load models/deca_model.tar\n"
     ]
    },
    {
     "name": "stderr",
     "output_type": "stream",
     "text": [
      "/home/peizhi/miniconda3/envs/tracker/lib/python3.10/site-packages/pytorch3d/io/obj_io.py:550: UserWarning: Mtl file does not exist: models/template.mtl\n",
      "  warnings.warn(f\"Mtl file does not exist: {f}\")\n"
     ]
    },
    {
     "name": "stdout",
     "output_type": "stream",
     "text": [
      "\n",
      ">>> Flame Head Tracker v3.4 ready.\n",
      ">>> Running video matting...\n"
     ]
    },
    {
     "name": "stderr",
     "output_type": "stream",
     "text": [
      "100%|██████████| 862/862 [00:15<00:00, 56.59it/s]\n"
     ]
    },
    {
     "name": "stdout",
     "output_type": "stream",
     "text": [
      ">>> Estimating canonical shape code\n"
     ]
    },
    {
     "name": "stderr",
     "output_type": "stream",
     "text": [
      "  0%|          | 0/3 [00:00<?, ?it/s]W0000 00:00:1750796485.829075   96115 landmark_projection_calculator.cc:186] Using NORM_RECT without IMAGE_DIMENSIONS is only supported for the square ROI. Provide IMAGE_DIMENSIONS or use PROJECTION_MATRIX.\n",
      "/home/peizhi/miniconda3/envs/tracker/lib/python3.10/site-packages/google/protobuf/symbol_database.py:55: UserWarning: SymbolDatabase.GetPrototype() is deprecated. Please use message_factory.GetMessageClass() instead. SymbolDatabase.GetPrototype() will be removed soon.\n",
      "  warnings.warn('SymbolDatabase.GetPrototype() is deprecated. Please '\n",
      "/home/peizhi/miniconda3/envs/tracker/lib/python3.10/site-packages/google/protobuf/symbol_database.py:55: UserWarning: SymbolDatabase.GetPrototype() is deprecated. Please use message_factory.GetMessageClass() instead. SymbolDatabase.GetPrototype() will be removed soon.\n",
      "  warnings.warn('SymbolDatabase.GetPrototype() is deprecated. Please '\n",
      "100%|██████████| 3/3 [00:16<00:00,  5.51s/it]\n"
     ]
    },
    {
     "name": "stdout",
     "output_type": "stream",
     "text": [
      ">>> Processing video: ./assets/IMG_2647.MOV\n"
     ]
    },
    {
     "name": "stderr",
     "output_type": "stream",
     "text": [
      "100%|██████████| 862/862 [58:29<00:00,  4.07s/it]  "
     ]
    },
    {
     "name": "stdout",
     "output_type": "stream",
     "text": [
      "time used: 59.137057932217914 minutes\n"
     ]
    },
    {
     "name": "stderr",
     "output_type": "stream",
     "text": [
      "\n"
     ]
    }
   ],
   "source": [
    "\n",
    "tracker_cfg = {\n",
    "    # settings for tracker base\n",
    "    'mediapipe_face_landmarker_v2_path': './models/face_landmarker.task',\n",
    "    'flame_model_path': './models/FLAME2020/generic_model.pkl',\n",
    "    'flame_lmk_embedding_path': './models/landmark_embedding.npy',\n",
    "    'ear_landmarker_path': './models/ear_landmarker.pth', # NOTE: this line is optional\n",
    "    'tex_space_path': './models/FLAME_albedo_from_BFM.npz',\n",
    "    'face_parsing_model_path': './models/79999_iter.pth',\n",
    "    'template_mesh_file_path': './models/head_template.obj',\n",
    "    'result_img_size': 512,\n",
    "    'use_matting': True,                    # use image/video matting to remove background\n",
    "    'optimize_fov': True,                   # whether to optimize the camera FOV\n",
    "    'device': device,\n",
    "\n",
    "    # settings for video tracking\n",
    "    'original_fps': 60,                     # input video fps\n",
    "    'subsample_fps': 30,                    # subsample (fps <= input fps)\n",
    "    'photometric_fitting': True,            # True: use photometric fitting (slower); False: use landmark-fitting (faster) \n",
    "    'video_path': './assets/IMG_2647.MOV',  # example video file path\n",
    "    'save_path': './output',                # tracking result save path\n",
    "    'batch_size': 32,                       # you can change it based on your GPU's capability (e.g., Nvidia 4090 supports 32 in photometric fitting mode)\n",
    "\n",
    "    'realign': True,    # NOTE! only when your video has squared frames and the face is alredy roughly centered, you can set this to False\n",
    "}\n",
    "\n",
    "## Note that, the first frame will take longer time to process\n",
    "dt = time()\n",
    "track_video(tracker_cfg)\n",
    "print(f\"time used: {(time() - dt) / 60} minutes\")\n",
    "\n"
   ]
  },
  {
   "cell_type": "code",
   "execution_count": null,
   "id": "4d21771c",
   "metadata": {},
   "outputs": [],
   "source": []
  }
 ],
 "metadata": {
  "kernelspec": {
   "display_name": "tracker",
   "language": "python",
   "name": "python3"
  },
  "language_info": {
   "codemirror_mode": {
    "name": "ipython",
    "version": 3
   },
   "file_extension": ".py",
   "mimetype": "text/x-python",
   "name": "python",
   "nbconvert_exporter": "python",
   "pygments_lexer": "ipython3",
   "version": "3.10.14"
  }
 },
 "nbformat": 4,
 "nbformat_minor": 5
}
