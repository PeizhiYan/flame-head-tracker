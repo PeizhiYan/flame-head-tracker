{
 "cells": [
  {
   "cell_type": "code",
   "execution_count": 1,
   "id": "f5137f06-8336-4340-b37e-51eda2edd4c7",
   "metadata": {},
   "outputs": [
    {
     "name": "stdout",
     "output_type": "stream",
     "text": [
      "Current Working Directory:  /home/peizhi/Documents/flame-head-tracker\n",
      "Jupyter environment detected. Enabling Open3D WebVisualizer.\n",
      "[Open3D INFO] WebRTC GUI backend enabled.\n",
      "[Open3D INFO] WebRTCWindowSystem: HTTP handshake server disabled.\n"
     ]
    }
   ],
   "source": [
    "## Enviroment Setup\n",
    "import os, sys\n",
    "WORKING_DIR = '/home/peizhi/Documents/flame-head-tracker'\n",
    "os.chdir(WORKING_DIR) # change the working directory to the project's absolute path\n",
    "print(\"Current Working Directory: \", os.getcwd())\n",
    "\n",
    "## Computing Device\n",
    "device = 'cuda:0'\n",
    "import torch\n",
    "torch.cuda.set_device(device) # this will solve the problem that OpenGL not on the same device with torch tensors\n",
    "\n",
    "from time import time\n",
    "\n",
    "from tracker_video import track_video\n",
    "\n"
   ]
  },
  {
   "cell_type": "code",
   "execution_count": 2,
   "id": "5a59dc29-3e26-4ea0-8841-e7d470313125",
   "metadata": {},
   "outputs": [
    {
     "name": "stdout",
     "output_type": "stream",
     "text": [
      "Conversion completed. 862\n"
     ]
    },
    {
     "name": "stderr",
     "output_type": "stream",
     "text": [
      "WARNING: All log messages before absl::InitializeLog() is called are written to STDERR\n",
      "I0000 00:00:1750398915.705420 2749286 gl_context_egl.cc:85] Successfully initialized EGL. Major : 1 Minor: 5\n",
      "I0000 00:00:1750398915.727071 2749776 gl_context.cc:357] GL version: 3.2 (OpenGL ES 3.2 NVIDIA 550.144.03), renderer: NVIDIA RTX A6000/PCIe/SSE2\n",
      "W0000 00:00:1750398915.727647 2749286 face_landmarker_graph.cc:174] Sets FaceBlendshapesGraph acceleration to xnnpack by default.\n",
      "INFO: Created TensorFlow Lite XNNPACK delegate for CPU.\n",
      "W0000 00:00:1750398915.737324 2749785 inference_feedback_manager.cc:114] Feedback manager requires a model with a single signature inference. Disabling support for feedback tensors.\n",
      "W0000 00:00:1750398915.752948 2749796 inference_feedback_manager.cc:114] Feedback manager requires a model with a single signature inference. Disabling support for feedback tensors.\n"
     ]
    },
    {
     "name": "stdout",
     "output_type": "stream",
     "text": [
      "creating the FLAME Decoder\n"
     ]
    },
    {
     "name": "stderr",
     "output_type": "stream",
     "text": [
      "/home/peizhi/Documents/flame-head-tracker/submodules/flame_lib/FLAME.py:85: UserWarning: To copy construct from a tensor, it is recommended to use sourceTensor.clone().detach() or sourceTensor.clone().detach().requires_grad_(True), rather than torch.tensor(sourceTensor).\n",
      "  self.register_buffer('dynamic_lmk_faces_idx', torch.tensor(lmk_embeddings['dynamic_lmk_faces_idx'], dtype=torch.long))\n",
      "/home/peizhi/Documents/flame-head-tracker/submodules/flame_lib/FLAME.py:86: UserWarning: To copy construct from a tensor, it is recommended to use sourceTensor.clone().detach() or sourceTensor.clone().detach().requires_grad_(True), rather than torch.tensor(sourceTensor).\n",
      "  self.register_buffer('dynamic_lmk_bary_coords', torch.tensor(lmk_embeddings['dynamic_lmk_bary_coords'], dtype=self.dtype))\n",
      "/home/peizhi/miniconda3/envs/tracker/lib/python3.10/site-packages/pytorch3d/io/obj_io.py:550: UserWarning: Mtl file does not exist: ./models/template.mtl\n",
      "  warnings.warn(f\"Mtl file does not exist: {f}\")\n",
      "/home/peizhi/miniconda3/envs/tracker/lib/python3.10/site-packages/torchvision/models/_utils.py:208: UserWarning: The parameter 'pretrained' is deprecated since 0.13 and may be removed in the future, please use 'weights' instead.\n",
      "  warnings.warn(\n",
      "/home/peizhi/miniconda3/envs/tracker/lib/python3.10/site-packages/torchvision/models/_utils.py:223: UserWarning: Arguments other than a weight enum or `None` for 'weights' are deprecated since 0.13 and may be removed in the future. The current behavior is equivalent to passing `weights=None`.\n",
      "  warnings.warn(msg)\n"
     ]
    },
    {
     "name": "stdout",
     "output_type": "stream",
     "text": [
      "creating the FLAME Decoder\n",
      "trained model found. load models/deca_model.tar\n"
     ]
    },
    {
     "name": "stderr",
     "output_type": "stream",
     "text": [
      "/home/peizhi/miniconda3/envs/tracker/lib/python3.10/site-packages/pytorch3d/io/obj_io.py:550: UserWarning: Mtl file does not exist: models/template.mtl\n",
      "  warnings.warn(f\"Mtl file does not exist: {f}\")\n"
     ]
    },
    {
     "name": "stdout",
     "output_type": "stream",
     "text": [
      "\n",
      ">>> Flame Head Tracker v3.4 ready.\n",
      ">>> Estimating canonical shape code\n"
     ]
    },
    {
     "name": "stderr",
     "output_type": "stream",
     "text": [
      "  0%|          | 0/5 [00:00<?, ?it/s]W0000 00:00:1750398920.822313 2749793 landmark_projection_calculator.cc:186] Using NORM_RECT without IMAGE_DIMENSIONS is only supported for the square ROI. Provide IMAGE_DIMENSIONS or use PROJECTION_MATRIX.\n",
      "/home/peizhi/miniconda3/envs/tracker/lib/python3.10/site-packages/google/protobuf/symbol_database.py:55: UserWarning: SymbolDatabase.GetPrototype() is deprecated. Please use message_factory.GetMessageClass() instead. SymbolDatabase.GetPrototype() will be removed soon.\n",
      "  warnings.warn('SymbolDatabase.GetPrototype() is deprecated. Please '\n",
      "/home/peizhi/miniconda3/envs/tracker/lib/python3.10/site-packages/google/protobuf/symbol_database.py:55: UserWarning: SymbolDatabase.GetPrototype() is deprecated. Please use message_factory.GetMessageClass() instead. SymbolDatabase.GetPrototype() will be removed soon.\n",
      "  warnings.warn('SymbolDatabase.GetPrototype() is deprecated. Please '\n",
      "100%|██████████| 5/5 [00:20<00:00,  4.02s/it]\n"
     ]
    },
    {
     "name": "stdout",
     "output_type": "stream",
     "text": [
      ">>> Processing video: ./assets/IMG_2647.MOV\n"
     ]
    },
    {
     "name": "stderr",
     "output_type": "stream",
     "text": [
      "  6%|▋         | 55/862 [03:44<54:51,  4.08s/it]  \n"
     ]
    },
    {
     "ename": "KeyboardInterrupt",
     "evalue": "",
     "output_type": "error",
     "traceback": [
      "\u001b[0;31m---------------------------------------------------------------------------\u001b[0m",
      "\u001b[0;31mKeyboardInterrupt\u001b[0m                         Traceback (most recent call last)",
      "Cell \u001b[0;32mIn[2], line 28\u001b[0m\n\u001b[1;32m     26\u001b[0m \u001b[38;5;66;03m## Note that, the first frame will take longer time to process\u001b[39;00m\n\u001b[1;32m     27\u001b[0m dt \u001b[38;5;241m=\u001b[39m time()\n\u001b[0;32m---> 28\u001b[0m \u001b[43mtrack_video\u001b[49m\u001b[43m(\u001b[49m\u001b[43mtracker_cfg\u001b[49m\u001b[43m)\u001b[49m\n\u001b[1;32m     29\u001b[0m \u001b[38;5;28mprint\u001b[39m(\u001b[38;5;124mf\u001b[39m\u001b[38;5;124m\"\u001b[39m\u001b[38;5;124mtime used: \u001b[39m\u001b[38;5;132;01m{\u001b[39;00m(time()\u001b[38;5;250m \u001b[39m\u001b[38;5;241m-\u001b[39m\u001b[38;5;250m \u001b[39mdt)\u001b[38;5;250m \u001b[39m\u001b[38;5;241m/\u001b[39m\u001b[38;5;250m \u001b[39m\u001b[38;5;241m60\u001b[39m\u001b[38;5;132;01m}\u001b[39;00m\u001b[38;5;124m minutes\u001b[39m\u001b[38;5;124m\"\u001b[39m)\n",
      "File \u001b[0;32m~/Documents/flame-head-tracker/tracker_video.py:84\u001b[0m, in \u001b[0;36mtrack_video\u001b[0;34m(tracker_cfg)\u001b[0m\n\u001b[1;32m     76\u001b[0m     _ \u001b[38;5;241m=\u001b[39m tracker\u001b[38;5;241m.\u001b[39mprepare_intermediate_data_from_image(img, realign\u001b[38;5;241m=\u001b[39m\u001b[38;5;28;01mTrue\u001b[39;00m)\n\u001b[1;32m     78\u001b[0m \u001b[38;5;66;03m# # Skip processed files (optional)\u001b[39;00m\n\u001b[1;32m     79\u001b[0m \u001b[38;5;66;03m# if os.path.exists(os.path.join(result_save_path, f'{fid}_compare.jpg')):\u001b[39;00m\n\u001b[1;32m     80\u001b[0m \u001b[38;5;66;03m#     prev_ret_dict = None\u001b[39;00m\n\u001b[1;32m     81\u001b[0m \u001b[38;5;66;03m#     continue\u001b[39;00m\n\u001b[1;32m     82\u001b[0m \n\u001b[1;32m     83\u001b[0m \u001b[38;5;66;03m# fit on the current frame\u001b[39;00m\n\u001b[0;32m---> 84\u001b[0m ret_dict \u001b[38;5;241m=\u001b[39m \u001b[43mtracker\u001b[49m\u001b[38;5;241;43m.\u001b[39;49m\u001b[43mrun\u001b[49m\u001b[43m(\u001b[49m\u001b[43mimg\u001b[49m\u001b[38;5;241;43m=\u001b[39;49m\u001b[43mframes\u001b[49m\u001b[43m[\u001b[49m\u001b[43mfid\u001b[49m\u001b[43m]\u001b[49m\u001b[43m,\u001b[49m\u001b[43m \u001b[49m\u001b[43mrealign\u001b[49m\u001b[38;5;241;43m=\u001b[39;49m\u001b[43mrealign\u001b[49m\u001b[43m,\u001b[49m\u001b[43m \u001b[49m\u001b[43mphotometric_fitting\u001b[49m\u001b[38;5;241;43m=\u001b[39;49m\u001b[43mphotometric_fitting\u001b[49m\u001b[43m,\u001b[49m\u001b[43m \u001b[49m\n\u001b[1;32m     85\u001b[0m \u001b[43m                       \u001b[49m\u001b[43mprev_ret_dict\u001b[49m\u001b[38;5;241;43m=\u001b[39;49m\u001b[43mprev_ret_dict\u001b[49m\u001b[43m,\u001b[49m\u001b[43m \u001b[49m\u001b[43mshape_code\u001b[49m\u001b[38;5;241;43m=\u001b[39;49m\u001b[43mmean_shape_code\u001b[49m\u001b[43m,\u001b[49m\u001b[43m \u001b[49m\u001b[43mtexture\u001b[49m\u001b[38;5;241;43m=\u001b[39;49m\u001b[43mtexture\u001b[49m\u001b[43m)\u001b[49m\n\u001b[1;32m     86\u001b[0m \u001b[38;5;28;01mif\u001b[39;00m ret_dict \u001b[38;5;129;01mis\u001b[39;00m \u001b[38;5;28;01mNone\u001b[39;00m:\n\u001b[1;32m     87\u001b[0m     \u001b[38;5;66;03m# cannot fit the current frame, skip it\u001b[39;00m\n\u001b[1;32m     88\u001b[0m     \u001b[38;5;28mprint\u001b[39m(\u001b[38;5;124mf\u001b[39m\u001b[38;5;124m'\u001b[39m\u001b[38;5;124m>>> Frame \u001b[39m\u001b[38;5;132;01m{\u001b[39;00mfid\u001b[38;5;132;01m}\u001b[39;00m\u001b[38;5;124m cannot be fitted, skipping...\u001b[39m\u001b[38;5;124m'\u001b[39m)\n",
      "File \u001b[0;32m~/Documents/flame-head-tracker/tracker_base.py:513\u001b[0m, in \u001b[0;36mTracker.run\u001b[0;34m(self, img, realign, photometric_fitting, prev_ret_dict, shape_code, texture)\u001b[0m\n\u001b[1;32m    511\u001b[0m     in_dict[\u001b[38;5;124m'\u001b[39m\u001b[38;5;124mface_mask\u001b[39m\u001b[38;5;124m'\u001b[39m] \u001b[38;5;241m=\u001b[39m face_mask\n\u001b[1;32m    512\u001b[0m     \u001b[38;5;66;03m# run photometric fitting\u001b[39;00m\n\u001b[0;32m--> 513\u001b[0m     ret_dict \u001b[38;5;241m=\u001b[39m \u001b[38;5;28;43mself\u001b[39;49m\u001b[38;5;241;43m.\u001b[39;49m\u001b[43mrun_fitting_photometric\u001b[49m\u001b[43m(\u001b[49m\u001b[43min_dict\u001b[49m\u001b[38;5;241;43m=\u001b[39;49m\u001b[43min_dict\u001b[49m\u001b[43m,\u001b[49m\u001b[43m \u001b[49m\u001b[43mprev_ret_dict\u001b[49m\u001b[38;5;241;43m=\u001b[39;49m\u001b[43mprev_ret_dict\u001b[49m\u001b[43m,\u001b[49m\u001b[43m \u001b[49m\u001b[43mshape_code\u001b[49m\u001b[38;5;241;43m=\u001b[39;49m\u001b[43mshape_code\u001b[49m\u001b[43m)\u001b[49m\n\u001b[1;32m    514\u001b[0m \u001b[38;5;28;01melse\u001b[39;00m:\n\u001b[1;32m    515\u001b[0m     \u001b[38;5;66;03m# run facial landmark-based fitting\u001b[39;00m\n\u001b[1;32m    516\u001b[0m     ret_dict \u001b[38;5;241m=\u001b[39m \u001b[38;5;28mself\u001b[39m\u001b[38;5;241m.\u001b[39mrun_fitting(in_dict\u001b[38;5;241m=\u001b[39min_dict, prev_ret_dict\u001b[38;5;241m=\u001b[39mprev_ret_dict, shape_code\u001b[38;5;241m=\u001b[39mshape_code)\n",
      "File \u001b[0;32m~/Documents/flame-head-tracker/tracker_base.py:1061\u001b[0m, in \u001b[0;36mTracker.run_fitting_photometric\u001b[0;34m(self, in_dict, prev_ret_dict, shape_code)\u001b[0m\n\u001b[1;32m   1058\u001b[0m     texture \u001b[38;5;241m=\u001b[39m torch\u001b[38;5;241m.\u001b[39mclamp(\u001b[38;5;28mself\u001b[39m\u001b[38;5;241m.\u001b[39mflametex(tex \u001b[38;5;241m+\u001b[39m d_tex) \u001b[38;5;241m+\u001b[39m d_texture, \u001b[38;5;241m0.0\u001b[39m, \u001b[38;5;241m1.0\u001b[39m)  \u001b[38;5;66;03m# [N, 3, 256, 256]\u001b[39;00m\n\u001b[1;32m   1060\u001b[0m \u001b[38;5;66;03m# project the vertices to 2D\u001b[39;00m\n\u001b[0;32m-> 1061\u001b[0m verts_clip \u001b[38;5;241m=\u001b[39m \u001b[43mbatch_perspective_projection\u001b[49m\u001b[43m(\u001b[49m\u001b[43mverts\u001b[49m\u001b[38;5;241;43m=\u001b[39;49m\u001b[43mvertices\u001b[49m\u001b[43m,\u001b[49m\u001b[43m \u001b[49m\u001b[43mcamera_pose\u001b[49m\u001b[38;5;241;43m=\u001b[39;49m\u001b[43moptimized_camera_pose\u001b[49m\u001b[43m,\u001b[49m\u001b[43m \u001b[49m\n\u001b[1;32m   1062\u001b[0m \u001b[43m                                          \u001b[49m\u001b[43mK\u001b[49m\u001b[38;5;241;43m=\u001b[39;49m\u001b[38;5;28;43mself\u001b[39;49m\u001b[38;5;241;43m.\u001b[39;49m\u001b[43mK\u001b[49m\u001b[43m,\u001b[49m\u001b[43m \u001b[49m\u001b[43mimage_size\u001b[49m\u001b[38;5;241;43m=\u001b[39;49m\u001b[38;5;28;43mself\u001b[39;49m\u001b[38;5;241;43m.\u001b[39;49m\u001b[43mH\u001b[49m\u001b[43m,\u001b[49m\u001b[43m \u001b[49m\u001b[43mnear\u001b[49m\u001b[38;5;241;43m=\u001b[39;49m\u001b[38;5;28;43mself\u001b[39;49m\u001b[38;5;241;43m.\u001b[39;49m\u001b[43mznear\u001b[49m\u001b[43m,\u001b[49m\u001b[43m \u001b[49m\u001b[43mfar\u001b[49m\u001b[38;5;241;43m=\u001b[39;49m\u001b[38;5;28;43mself\u001b[39;49m\u001b[38;5;241;43m.\u001b[39;49m\u001b[43mzfar\u001b[49m\u001b[43m)\u001b[49m \u001b[38;5;66;03m# [N, V, 3]\u001b[39;00m\n\u001b[1;32m   1063\u001b[0m verts_ndc_3d \u001b[38;5;241m=\u001b[39m batch_verts_clip_to_ndc(verts_clip) \u001b[38;5;66;03m# output [N, V, 3] normalized to -1.0 ~ 1.0\u001b[39;00m\n\u001b[1;32m   1065\u001b[0m \u001b[38;5;66;03m# face landmarks\u001b[39;00m\n",
      "File \u001b[0;32m~/Documents/flame-head-tracker/utils/graphics_utils.py:126\u001b[0m, in \u001b[0;36mbatch_perspective_projection\u001b[0;34m(verts, camera_pose, K, image_size, near, far)\u001b[0m\n\u001b[1;32m    123\u001b[0m full_proj[:, \u001b[38;5;241m1\u001b[39m, :] \u001b[38;5;241m*\u001b[39m\u001b[38;5;241m=\u001b[39m \u001b[38;5;241m-\u001b[39m\u001b[38;5;241m1\u001b[39m\n\u001b[1;32m    125\u001b[0m \u001b[38;5;66;03m# Project verts\u001b[39;00m\n\u001b[0;32m--> 126\u001b[0m verts_h \u001b[38;5;241m=\u001b[39m torch\u001b[38;5;241m.\u001b[39mcat([verts, \u001b[43mtorch\u001b[49m\u001b[38;5;241;43m.\u001b[39;49m\u001b[43mones\u001b[49m\u001b[43m(\u001b[49m\u001b[43mB\u001b[49m\u001b[43m,\u001b[49m\u001b[43m \u001b[49m\u001b[43mverts\u001b[49m\u001b[38;5;241;43m.\u001b[39;49m\u001b[43mshape\u001b[49m\u001b[43m[\u001b[49m\u001b[38;5;241;43m1\u001b[39;49m\u001b[43m]\u001b[49m\u001b[43m,\u001b[49m\u001b[43m \u001b[49m\u001b[38;5;241;43m1\u001b[39;49m\u001b[43m,\u001b[49m\u001b[43m \u001b[49m\u001b[43mdevice\u001b[49m\u001b[38;5;241;43m=\u001b[39;49m\u001b[43mdevice\u001b[49m\u001b[43m)\u001b[49m], dim\u001b[38;5;241m=\u001b[39m\u001b[38;5;241m-\u001b[39m\u001b[38;5;241m1\u001b[39m)  \u001b[38;5;66;03m# [B, V, 4]\u001b[39;00m\n\u001b[1;32m    127\u001b[0m verts_clip \u001b[38;5;241m=\u001b[39m torch\u001b[38;5;241m.\u001b[39mbmm(verts_h, full_proj\u001b[38;5;241m.\u001b[39mtranspose(\u001b[38;5;241m-\u001b[39m\u001b[38;5;241m1\u001b[39m, \u001b[38;5;241m-\u001b[39m\u001b[38;5;241m2\u001b[39m)) \u001b[38;5;66;03m# [B, V, 4]\u001b[39;00m\n\u001b[1;32m    128\u001b[0m \u001b[38;5;28;01mreturn\u001b[39;00m verts_clip\n",
      "\u001b[0;31mKeyboardInterrupt\u001b[0m: "
     ]
    }
   ],
   "source": [
    "\n",
    "tracker_cfg = {\n",
    "    # settings for tracker base\n",
    "    'mediapipe_face_landmarker_v2_path': './models/face_landmarker.task',\n",
    "    'flame_model_path': './models/FLAME2020/generic_model.pkl',\n",
    "    'flame_lmk_embedding_path': './models/landmark_embedding.npy',\n",
    "    'ear_landmarker_path': './models/ear_landmarker.pth', # this is optional, if you do not want to use ear landmarks during fitting, just remove this line\n",
    "    'tex_space_path': './models/FLAME_albedo_from_BFM.npz',\n",
    "    'face_parsing_model_path': './models/79999_iter.pth',\n",
    "    'template_mesh_file_path': './models/head_template.obj',\n",
    "    'result_img_size': 512,\n",
    "    'device': device,\n",
    "    'use_head_pose': True,                  # otherwise the head is fixed and rotation will be soly modeled by camera rotation\n",
    "    'estimate_neck_pose': True,\n",
    "\n",
    "    # settings for video tracking\n",
    "    'original_fps': 60,                     # input video fps\n",
    "    'subsample_fps': 30,                    # subsample fps\n",
    "    'photometric_fitting': True,            # True: use photometric fitting (slow); False: use landmark-fitting (faster) \n",
    "    'video_path': './assets/IMG_2647.MOV',  # example video file path\n",
    "    'save_path': './output',                # tracking result save path\n",
    "\n",
    "    # NOTE! only when your video has squared frames and the face is alredy centered, you can set this to False\n",
    "    'realign': True,\n",
    "}\n",
    "\n",
    "## Note that, the first frame will take longer time to process\n",
    "dt = time()\n",
    "track_video(tracker_cfg)\n",
    "print(f\"time used: {(time() - dt) / 60} minutes\")\n",
    "\n"
   ]
  },
  {
   "cell_type": "code",
   "execution_count": null,
   "id": "4d21771c",
   "metadata": {},
   "outputs": [],
   "source": []
  }
 ],
 "metadata": {
  "kernelspec": {
   "display_name": "tracker",
   "language": "python",
   "name": "python3"
  },
  "language_info": {
   "codemirror_mode": {
    "name": "ipython",
    "version": 3
   },
   "file_extension": ".py",
   "mimetype": "text/x-python",
   "name": "python",
   "nbconvert_exporter": "python",
   "pygments_lexer": "ipython3",
   "version": "3.10.14"
  }
 },
 "nbformat": 4,
 "nbformat_minor": 5
}
